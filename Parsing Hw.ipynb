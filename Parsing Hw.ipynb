{
 "cells": [
  {
   "cell_type": "markdown",
   "metadata": {},
   "source": [
    "## File Parsing Homework Week 1"
   ]
  },
  {
   "cell_type": "code",
   "execution_count": 20,
   "metadata": {},
   "outputs": [
    {
     "name": "stdout",
     "output_type": "stream",
     "text": [
      " Volume in drive C is OS\n",
      " Volume Serial Number is A499-E7F2\n",
      "\n",
      " Directory of C:\\Users\\Lia\\Desktop\\cms-workshop\\data\n",
      "\n",
      "06/02/2020  10:29 AM    <DIR>          .\n",
      "06/02/2020  10:29 AM    <DIR>          ..\n",
      "06/02/2020  10:27 AM           212,934 03_Prod.mdout\n",
      "06/02/2020  10:27 AM               619 benzene.xyz\n",
      "06/02/2020  10:27 AM             2,471 buckminsterfullerene.xyz\n",
      "06/02/2020  10:27 AM           355,359 distance_data_headers.csv\n",
      "06/02/2020  10:29 AM    <DIR>          outfiles\n",
      "06/02/2020  10:27 AM            61,568 sapt.out\n",
      "06/02/2020  10:27 AM               155 water.xyz\n",
      "               6 File(s)        633,106 bytes\n",
      "               3 Dir(s)  11,598,024,704 bytes free\n"
     ]
    }
   ],
   "source": [
    "ls data"
   ]
  },
  {
   "cell_type": "code",
   "execution_count": 21,
   "metadata": {},
   "outputs": [
    {
     "data": {
      "text/plain": [
       "'C:\\\\Users\\\\Lia\\\\Desktop\\\\cms-workshop'"
      ]
     },
     "execution_count": 21,
     "metadata": {},
     "output_type": "execute_result"
    }
   ],
   "source": [
    "pwd"
   ]
  },
  {
   "cell_type": "code",
   "execution_count": 34,
   "metadata": {},
   "outputs": [],
   "source": [
    "import os"
   ]
  },
  {
   "cell_type": "code",
   "execution_count": 52,
   "metadata": {},
   "outputs": [],
   "source": [
    "import os\n",
    "file = os.path.join('data','03_Prod.mdout')\n",
    "outfile = open(file,'r')\n",
    "data = outfile.readlines()\n",
    "outfile.close()\n",
    "\n",
    "filehandle = open('Etot.txt', 'w+')\n",
    "for line in data:\n",
    "    if 'Etot' in line:\n",
    "        Etot_line = line\n",
    "        words = Etot_line.split()\n",
    "        Etot = words[2]\n",
    "        filehandle.write(F'Time(ps) {time} \\t Total Energy {Etot} \\n')\n",
    "    if 'Time' in line:\n",
    "        time_line = line\n",
    "        words = time_line.split()\n",
    "        time = words[5]\n",
    "        \n",
    "filehandle.close()"
   ]
  },
  {
   "cell_type": "code",
   "execution_count": 53,
   "metadata": {},
   "outputs": [],
   "source": [
    "import os\n",
    "file = os.path.join('data','03_Prod.mdout')\n",
    "outfile = open(file,'r')\n"
   ]
  },
  {
   "cell_type": "code",
   "execution_count": null,
   "metadata": {},
   "outputs": [],
   "source": []
  },
  {
   "cell_type": "code",
   "execution_count": null,
   "metadata": {},
   "outputs": [],
   "source": []
  }
 ],
 "metadata": {
  "kernelspec": {
   "display_name": "Python 3",
   "language": "python",
   "name": "python3"
  },
  "language_info": {
   "codemirror_mode": {
    "name": "ipython",
    "version": 3
   },
   "file_extension": ".py",
   "mimetype": "text/x-python",
   "name": "python",
   "nbconvert_exporter": "python",
   "pygments_lexer": "ipython3",
   "version": "3.7.6"
  }
 },
 "nbformat": 4,
 "nbformat_minor": 4
}

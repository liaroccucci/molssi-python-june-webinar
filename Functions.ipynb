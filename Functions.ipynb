{
 "cells": [
  {
   "cell_type": "markdown",
   "metadata": {},
   "source": [
    "##Writing Functions\n"
   ]
  },
  {
   "cell_type": "code",
   "execution_count": 1,
   "metadata": {},
   "outputs": [],
   "source": [
    "# a function should perform one computational task\n",
    "#def function_name(parameters):\n",
    "   # ** body of your code, uses parameters, calculate value to return here **\n",
    "   # return value_to_return\n",
    "#parameters need to be specified"
   ]
  },
  {
   "cell_type": "code",
   "execution_count": 16,
   "metadata": {},
   "outputs": [
    {
     "ename": "NameError",
     "evalue": "name 'distance' is not defined",
     "output_type": "error",
     "traceback": [
      "\u001b[1;31m---------------------------------------------------------------------------\u001b[0m",
      "\u001b[1;31mNameError\u001b[0m                                 Traceback (most recent call last)",
      "\u001b[1;32m<ipython-input-16-fcde433d28e8>\u001b[0m in \u001b[0;36m<module>\u001b[1;34m\u001b[0m\n\u001b[0;32m     12\u001b[0m           \u001b[1;32mif\u001b[0m \u001b[0mnum1\u001b[0m\u001b[1;33m<\u001b[0m\u001b[0mnum2\u001b[0m\u001b[1;33m:\u001b[0m\u001b[1;33m\u001b[0m\u001b[1;33m\u001b[0m\u001b[0m\n\u001b[0;32m     13\u001b[0m             \u001b[0mdistance\u001b[0m \u001b[1;33m=\u001b[0m \u001b[0mcalculate_distance\u001b[0m\u001b[1;33m(\u001b[0m\u001b[0mcoordinates\u001b[0m\u001b[1;33m[\u001b[0m\u001b[0mnum1\u001b[0m\u001b[1;33m]\u001b[0m\u001b[1;33m,\u001b[0m\u001b[0mcoordinates\u001b[0m\u001b[1;33m[\u001b[0m\u001b[0mnum2\u001b[0m\u001b[1;33m]\u001b[0m\u001b[1;33m)\u001b[0m\u001b[1;33m\u001b[0m\u001b[1;33m\u001b[0m\u001b[0m\n\u001b[1;32m---> 14\u001b[1;33m           \u001b[1;32mif\u001b[0m \u001b[0mdistance\u001b[0m \u001b[1;33m>\u001b[0m \u001b[1;36m0\u001b[0m \u001b[1;32mand\u001b[0m \u001b[0mdistance\u001b[0m \u001b[1;33m<=\u001b[0m\u001b[1;36m1.5\u001b[0m\u001b[1;33m:\u001b[0m\u001b[1;33m\u001b[0m\u001b[1;33m\u001b[0m\u001b[0m\n\u001b[0m\u001b[0;32m     15\u001b[0m             \u001b[0mprint\u001b[0m\u001b[1;33m(\u001b[0m\u001b[1;34mF' {symbols[num1]} to {symbols[num2]}  :  {distance: 3f}'\u001b[0m\u001b[1;33m)\u001b[0m\u001b[1;33m\u001b[0m\u001b[1;33m\u001b[0m\u001b[0m\n\u001b[0;32m     16\u001b[0m \u001b[1;33m\u001b[0m\u001b[0m\n",
      "\u001b[1;31mNameError\u001b[0m: name 'distance' is not defined"
     ]
    }
   ],
   "source": [
    "import numpy\n",
    "import os\n",
    "\n",
    "file_location = os.path.join('data','water.xyz')\n",
    "xyz_file = numpy.genfromtxt(fname = file_location, skip_header=2, dtype='unicode')\n",
    "symbols = xyz_file[:,0]\n",
    "coordinates =xyz_file[:,1:]\n",
    "coordinates = coordinates.astype(numpy.float)\n",
    "num_atoms = len(symbols)\n",
    "for num1 in range (0,num_atoms):\n",
    "    for num2 in range(0, num_atoms):\n",
    "          if num1<num2:\n",
    "            distance = calculate_distance(coordinates[num1],coordinates[num2])\n",
    "          if distance > 0 and distance <=1.5:\n",
    "            print(F' {symbols[num1]} to {symbols[num2]}  :  {distance: 3f}')\n",
    "    \n"
   ]
  },
  {
   "cell_type": "code",
   "execution_count": 37,
   "metadata": {},
   "outputs": [],
   "source": [
    "cc\n"
   ]
  },
  {
   "cell_type": "code",
   "execution_count": 38,
   "metadata": {},
   "outputs": [
    {
     "name": "stdout",
     "output_type": "stream",
     "text": [
      " O to H1  :   0.969001\n",
      " O to H2  :   0.969000\n",
      " H1 to O  :   0.969001\n",
      " H2 to O  :   0.969000\n"
     ]
    }
   ],
   "source": [
    "import numpy\n",
    "import os\n",
    "file_location = os.path.join('data','water.xyz')\n",
    "xyz_file = numpy.genfromtxt(fname = file_location, skip_header=2, dtype='unicode')\n",
    "symbols = xyz_file[:,0]\n",
    "coordinates =xyz_file[:,1:]\n",
    "coordinates = coordinates.astype(numpy.float)\n",
    "num_atoms = len(symbols)\n",
    "for num1 in range (0,num_atoms):\n",
    "    for num2 in range(0, num_atoms):\n",
    "        distance = calculate_distance(coordinates[num1],coordinates[num2])\n",
    "        if distance > 0 and distance <=1.5:\n",
    "            print(F' {symbols[num1]} to {symbols[num2]}  :  {distance: 3f}')\n",
    "    "
   ]
  },
  {
   "cell_type": "code",
   "execution_count": 33,
   "metadata": {},
   "outputs": [],
   "source": [
    "def bond_check(atom_distance, min_length=0, max_length=1.5):\n",
    "    \"\"\"\n",
    "    Check if a distance is a bond based on a minimum and  maximum length.\n",
    "    Inputs: distance, min_length, max_length\n",
    "    Defaults: min_length=0, max_length=1.5\n",
    "    Return: True or False \n",
    "    \"\"\"\n",
    "    \n",
    "    if atom_distance > min_length and atom_distance <= max_length: \n",
    "        return True \n",
    "    else:\n",
    "        return False\n"
   ]
  },
  {
   "cell_type": "code",
   "execution_count": 34,
   "metadata": {},
   "outputs": [
    {
     "name": "stdout",
     "output_type": "stream",
     "text": [
      "Help on function bond_check in module __main__:\n",
      "\n",
      "bond_check(atom_distance, min_length=0, max_length=1.5)\n",
      "    Check if a distance is a bond based on a minimum and  maximum length.\n",
      "    Inputs: distance, min_length, max_length\n",
      "    Defaults: min_length=0, max_length=1.5\n",
      "    Return: True or False\n",
      "\n"
     ]
    }
   ],
   "source": [
    "help(bond_check)"
   ]
  },
  {
   "cell_type": "code",
   "execution_count": 19,
   "metadata": {},
   "outputs": [
    {
     "data": {
      "text/plain": [
       "False"
      ]
     },
     "execution_count": 19,
     "metadata": {},
     "output_type": "execute_result"
    }
   ],
   "source": [
    "bond_check(-10)"
   ]
  },
  {
   "cell_type": "code",
   "execution_count": 28,
   "metadata": {},
   "outputs": [
    {
     "data": {
      "text/plain": [
       "True"
      ]
     },
     "execution_count": 28,
     "metadata": {},
     "output_type": "execute_result"
    }
   ],
   "source": [
    "bond_check(2.7,0,3)"
   ]
  },
  {
   "cell_type": "code",
   "execution_count": 39,
   "metadata": {},
   "outputs": [
    {
     "name": "stdout",
     "output_type": "stream",
     "text": [
      " O to H1  :   0.969001\n",
      " O to H2  :   0.969000\n",
      " H1 to O  :   0.969001\n",
      " H2 to O  :   0.969000\n"
     ]
    }
   ],
   "source": [
    "import numpy\n",
    "import os\n",
    "\n",
    "def calculate_distance(coords1, coords2): \n",
    "    x_distance = coords1[0]-coords2[0]\n",
    "    y_distance = coords1[1]-coords2[1]\n",
    "    z_distance = coords1[2]-coords2[2]\n",
    "    distance_12 = numpy.sqrt(x_distance**2+y_distance**2+z_distance**2)\n",
    "    return distance_12\n",
    "\n",
    "def bond_check(atom_distance, min_length=0, max_length=1.5):\n",
    "    \"\"\"\n",
    "    Check if a distance is a bond based on a minimum and  maximum length.\n",
    "    Inputs: distance, min_length, max_length\n",
    "    Defaults: min_length=0, max_length=1.5\n",
    "    Return: True or False \n",
    "    \"\"\"\n",
    "    \n",
    "    if atom_distance > min_length and atom_distance <= max_length: \n",
    "        return True \n",
    "    else:\n",
    "        return False\n",
    "\n",
    "\n",
    "file_location = os.path.join('data','water.xyz')\n",
    "xyz_file = numpy.genfromtxt(fname = file_location, skip_header=2, dtype='unicode')\n",
    "symbols = xyz_file[:,0]\n",
    "coordinates =xyz_file[:,1:]\n",
    "coordinates = coordinates.astype(numpy.float)\n",
    "num_atoms = len(symbols)\n",
    "for num1 in range (0,num_atoms):\n",
    "    for num2 in range(0, num_atoms):\n",
    "        distance = calculate_distance(coordinates[num1],coordinates[num2])\n",
    "        if bond_check(distance) is True:\n",
    "            print(F' {symbols[num1]} to {symbols[num2]}  :  {distance: 3f}')\n",
    "    "
   ]
  },
  {
   "cell_type": "code",
   "execution_count": null,
   "metadata": {},
   "outputs": [],
   "source": []
  }
 ],
 "metadata": {
  "kernelspec": {
   "display_name": "Python 3",
   "language": "python",
   "name": "python3"
  },
  "language_info": {
   "codemirror_mode": {
    "name": "ipython",
    "version": 3
   },
   "file_extension": ".py",
   "mimetype": "text/x-python",
   "name": "python",
   "nbconvert_exporter": "python",
   "pygments_lexer": "ipython3",
   "version": "3.7.6"
  }
 },
 "nbformat": 4,
 "nbformat_minor": 4
}

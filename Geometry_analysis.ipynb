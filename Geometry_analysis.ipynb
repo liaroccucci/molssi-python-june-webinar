{
 "cells": [
  {
   "cell_type": "markdown",
   "metadata": {},
   "source": [
    "## Day 2 Homework\n",
    "#Geometry Analysis Hw Solution\n",
    "\n",
    "measure  distances between atoms"
   ]
  },
  {
   "cell_type": "code",
   "execution_count": 2,
   "metadata": {},
   "outputs": [],
   "source": [
    "import numpy\n",
    "import os\n",
    "\n",
    "# you know you need these bc you need to construct a file path using  os.path.join, and measuring distances means square root uses a numpy function"
   ]
  },
  {
   "cell_type": "code",
   "execution_count": 3,
   "metadata": {},
   "outputs": [
    {
     "name": "stdout",
     "output_type": "stream",
     "text": [
      "data\\water.xyz\n"
     ]
    }
   ],
   "source": [
    "#open the file os.path.join('folder name','file')\n",
    "file_location = os.path.join('data','water.xyz')\n",
    "print(file_location)\n",
    "#check to see if you have the right folder"
   ]
  },
  {
   "cell_type": "code",
   "execution_count": 5,
   "metadata": {},
   "outputs": [],
   "source": [
    "#read information  in the file, readlines means that pulling info from lists, gennumpy is for tabular information \n",
    "#since this file is tabular, choose tabular  (can choose both, but code would look different)\n",
    "#(file name, delimiter)\n",
    "#coordinates are floats, words are strings means its UNICODE\n",
    "#this didnt work without skip, makes all rows have 4 colums \n",
    "xyz_file = numpy.genfromtxt(fname=file_location,dtype='unicode', skip_header=2)"
   ]
  },
  {
   "cell_type": "code",
   "execution_count": 6,
   "metadata": {},
   "outputs": [
    {
     "name": "stdout",
     "output_type": "stream",
     "text": [
      "[['O' '0.000000' '-0.007156' '0.965491']\n",
      " ['H1' '-0.000000' '0.001486' '-0.003471']\n",
      " ['H2' '0.000000' '0.931026' '1.207929']]\n"
     ]
    }
   ],
   "source": [
    "print(xyz_file)\n",
    "#symbols are strings and numbers are floats,  so separate them by taking slices\n"
   ]
  },
  {
   "cell_type": "code",
   "execution_count": 7,
   "metadata": {},
   "outputs": [
    {
     "name": "stdout",
     "output_type": "stream",
     "text": [
      "['O' 'H1' 'H2']\n",
      "[['0.000000' '-0.007156' '0.965491']\n",
      " ['-0.000000' '0.001486' '-0.003471']\n",
      " ['0.000000' '0.931026' '1.207929']]\n"
     ]
    }
   ],
   "source": [
    "symbols = xyz_file[:,0]\n",
    "#all rows, zeroth column\n",
    "coordinates = xyz_file[:,1:]\n",
    "#all rows, 1st thru end column \n",
    "\n",
    "print(symbols)\n",
    "print(coordinates)\n",
    "\n",
    "#the numbers  have quotes, python thinks theyre strings so you have to recast them into floats \n"
   ]
  },
  {
   "cell_type": "code",
   "execution_count": 8,
   "metadata": {},
   "outputs": [],
   "source": [
    "coordinates = coordinates.astype(numpy.float)\n",
    "\n",
    "#recasting"
   ]
  },
  {
   "cell_type": "code",
   "execution_count": 9,
   "metadata": {},
   "outputs": [
    {
     "name": "stdout",
     "output_type": "stream",
     "text": [
      "[[ 0.       -0.007156  0.965491]\n",
      " [-0.        0.001486 -0.003471]\n",
      " [ 0.        0.931026  1.207929]]\n"
     ]
    }
   ],
   "source": [
    "print(coordinates)"
   ]
  },
  {
   "cell_type": "markdown",
   "metadata": {},
   "source": [
    "#measure distance between these atoms \n",
    "\n",
    "$$ distance = \\sqrt{(x1-x2)^2 + (y1-y2)^2 + (z1-z2)^2} $$\n",
    "\n",
    "#text in between $$ will render as  equations\n"
   ]
  },
  {
   "cell_type": "code",
   "execution_count": 19,
   "metadata": {},
   "outputs": [
    {
     "name": "stdout",
     "output_type": "stream",
     "text": [
      "O to H1  :   0.969\n",
      "O to H2  :   0.969\n"
     ]
    }
   ],
   "source": [
    "num_atoms = len(symbols)\n",
    "for num1 in range(0,num_atoms):\n",
    "    for num2 in range(0,num_atoms):\n",
    "       # print(F'Atom 1 is {num1}')\n",
    "        #print(F'Atom 2 is {num2}')\n",
    "        if num1<num2:\n",
    "            x_distance = coordinates[num1,0]-coordinates[num2,0]\n",
    "            y_distance = coordinates[num1,1]-coordinates[num2,1]\n",
    "            z_distance = coordinates[num1,2]-coordinates[num2,2]\n",
    "            #num1  means  atom 1\n",
    "            distance_12 = numpy.sqrt(x_distance**2+y_distance**2+z_distance**2)\n",
    "            if distance_12 > 0 and distance_12 <= 1.5:\n",
    "                #only prints if less than 1.5\n",
    "                print(F'{symbols[num1]} to {symbols[num2]}  :  {distance_12: .3f}')\n",
    "                    #remember that .3f means to three decimal places \n",
    "                    # make a rule that you only wanna print if its less than 1.5 angstroms\n"
   ]
  },
  {
   "cell_type": "code",
   "execution_count": null,
   "metadata": {},
   "outputs": [],
   "source": [
    "import numpy\n",
    "import os\n",
    "file_location = os.path.join('data','water.xyz')\n",
    "xyz_file = numpy.genfromtxt(fname=file_location,dtype='unicode', skip_header=2)\n",
    "symbols = xyz_file[:,0]\n",
    "coordinates = xyz_file[:,1:]\n",
    "coordinates = coordinates.astype(numpy.float)\n",
    "num_atoms = len(symbols)\n",
    "for num1 in range(0,num_atoms):\n",
    "    for num2 in range(0,num_atoms):\n",
    "       # print(F'Atom 1 is {num1}')\n",
    "        #print(F'Atom 2 is {num2}')\n",
    "        if num1<num2:\n",
    "            x_distance = coordinates[num1,0]-coordinates[num2,0]\n",
    "            y_distance = coordinates[num1,1]-coordinates[num2,1]\n",
    "            z_distance = coordinates[num1,2]-coordinates[num2,2]\n",
    "            #num1  means  atom 1\n",
    "            distance_12 = numpy.sqrt(x_distance**2+y_distance**2+z_distance**2)\n",
    "            if distance_12 > 0 and distance_12 <= 1.5:\n",
    "                #only prints if less than 1.5\n",
    "                print(F'{symbols[num1]} to {symbols[num2]}  :  {distance_12: .3f}')"
   ]
  }
 ],
 "metadata": {
  "kernelspec": {
   "display_name": "Python 3",
   "language": "python",
   "name": "python3"
  },
  "language_info": {
   "codemirror_mode": {
    "name": "ipython",
    "version": 3
   },
   "file_extension": ".py",
   "mimetype": "text/x-python",
   "name": "python",
   "nbconvert_exporter": "python",
   "pygments_lexer": "ipython3",
   "version": "3.7.6"
  }
 },
 "nbformat": 4,
 "nbformat_minor": 4
}
